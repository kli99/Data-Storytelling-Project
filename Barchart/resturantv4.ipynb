{
 "cells": [
  {
   "cell_type": "code",
   "execution_count": 3,
   "metadata": {},
   "outputs": [],
   "source": [
    "import pandas as pd\n",
    "from sqlalchemy import create_engine\n",
    "import numpy as np\n",
    "import csv\n",
    "from bs4 import BeautifulSoup\n",
    "import string\n",
    "from mpl_toolkits.mplot3d import Axes3D \n",
    "import matplotlib.pyplot as plt\n",
    "from collections import Counter"
   ]
  },
  {
   "cell_type": "code",
   "execution_count": 4,
   "metadata": {},
   "outputs": [],
   "source": [
    "from flask import Flask, render_template, redirect\n",
    "import json\n"
   ]
  },
  {
   "cell_type": "code",
   "execution_count": 5,
   "metadata": {},
   "outputs": [],
   "source": [
    "import seaborn as sns"
   ]
  },
  {
   "cell_type": "code",
   "execution_count": 7,
   "metadata": {},
   "outputs": [],
   "source": [
    "NYC_restaurant_csv = \"assets/data/New_York_City_Restaurant_Inspection-consolidated.csv\"\n",
    "NYC_restaurant_df = pd.read_csv(NYC_restaurant_csv,encoding=\"utf8\")"
   ]
  },
  {
   "cell_type": "code",
   "execution_count": 8,
   "metadata": {},
   "outputs": [
    {
     "data": {
      "text/plain": [
       "CUISINE DESCRIPTION  ZIPCODE\n",
       "American             10001      14.819048\n",
       "                     10002      11.476190\n",
       "                     10003      11.178571\n",
       "                     10004       9.882353\n",
       "                     10005      10.000000\n",
       "                                  ...    \n",
       "Thai                 11373      16.857143\n",
       "                     11374      13.000000\n",
       "                     11377      10.600000\n",
       "                     11379       8.000000\n",
       "                     11432      27.000000\n",
       "Name: SCORE, Length: 878, dtype: float64"
      ]
     },
     "execution_count": 8,
     "metadata": {},
     "output_type": "execute_result"
    }
   ],
   "source": [
    "NYC_restaurant_df.groupby(['CUISINE DESCRIPTION', 'ZIPCODE'], as_index=True)['SCORE'].mean()"
   ]
  },
  {
   "cell_type": "code",
   "execution_count": 9,
   "metadata": {},
   "outputs": [
    {
     "data": {
      "text/plain": [
       "ZIPCODE\n",
       "10000    12.000000\n",
       "10001    13.475610\n",
       "10002    13.700000\n",
       "10003    10.552239\n",
       "10004     9.543478\n",
       "           ...    \n",
       "11691     2.000000\n",
       "11692     7.000000\n",
       "11693     5.000000\n",
       "11694    12.375000\n",
       "11697    10.000000\n",
       "Name: SCORE, Length: 192, dtype: float64"
      ]
     },
     "execution_count": 9,
     "metadata": {},
     "output_type": "execute_result"
    }
   ],
   "source": [
    "# Average score by zipcode\n",
    "zipcode_df=NYC_restaurant_df.groupby('ZIPCODE', as_index=True)['SCORE'].mean()\n",
    "zipcode_df"
   ]
  },
  {
   "cell_type": "code",
   "execution_count": 11,
   "metadata": {},
   "outputs": [
    {
     "data": {
      "text/plain": [
       "CUISINE DESCRIPTION\n",
       "American         12.389965\n",
       "Brazilian        13.562500\n",
       "Chinese          12.246859\n",
       "French           10.322314\n",
       "Greek            11.798077\n",
       "Indian           15.977169\n",
       "Italian          12.262590\n",
       "Japanese         12.183521\n",
       "Korean           18.623810\n",
       "Mediterranean    10.605442\n",
       "Mexican          12.243243\n",
       "Spanish          13.793388\n",
       "Thai             12.347222\n",
       "Name: SCORE, dtype: float64"
      ]
     },
     "execution_count": 11,
     "metadata": {},
     "output_type": "execute_result"
    }
   ],
   "source": [
    "# Average score by cusine \n",
    "cuisine_df=NYC_restaurant_df.groupby(\"CUISINE DESCRIPTION\", as_index=True)['SCORE'].mean()\n",
    "cuisine_df"
   ]
  },
  {
   "cell_type": "code",
   "execution_count": 12,
   "metadata": {},
   "outputs": [
    {
     "data": {
      "text/plain": [
       "<matplotlib.axes._subplots.AxesSubplot at 0x1e335caa108>"
      ]
     },
     "execution_count": 12,
     "metadata": {},
     "output_type": "execute_result"
    },
    {
     "data": {
      "image/png": "[encoded data removed]",
      "text/plain": [
       "<Figure size 432x288 with 1 Axes>"
      ]
     },
     "metadata": {
      "needs_background": "light"
     },
     "output_type": "display_data"
    }
   ],
   "source": [
    "cuisine_df.plot.bar() "
   ]
  },
  {
   "cell_type": "code",
   "execution_count": 13,
   "metadata": {},
   "outputs": [],
   "source": [
    "# Average score by cusine \n",
    "cuisine_df=NYC_restaurant_df.groupby(\"CUISINE DESCRIPTION\", as_index=True)['SCORE'].mean()\n",
    "cuisine_df\n",
    "plt.show()"
   ]
  },
  {
   "cell_type": "code",
   "execution_count": 14,
   "metadata": {},
   "outputs": [
    {
     "data": {
      "text/plain": [
       "<bound method PlotAccessor.scatter of <pandas.plotting._core.PlotAccessor object at 0x000001E336447A88>>"
      ]
     },
     "execution_count": 14,
     "metadata": {},
     "output_type": "execute_result"
    }
   ],
   "source": [
    "cuisine_df.plot.scatter"
   ]
  },
  {
   "cell_type": "code",
   "execution_count": 17,
   "metadata": {},
   "outputs": [],
   "source": [
    "cuisine_df.to_json(\"assets/data/cuisine.json\" , orient=\"split\")"
   ]
  },
  {
   "cell_type": "code",
   "execution_count": null,
   "metadata": {},
   "outputs": [],
   "source": []
  }
 ],
 "metadata": {
  "kernelspec": {
   "display_name": "Python 3",
   "language": "python",
   "name": "python3"
  },
  "language_info": {
   "codemirror_mode": {
    "name": "ipython",
    "version": 3
   },
   "file_extension": ".py",
   "mimetype": "text/x-python",
   "name": "python",
   "nbconvert_exporter": "python",
   "pygments_lexer": "ipython3",
   "version": "3.7.6"
  }
 },
 "nbformat": 4,
 "nbformat_minor": 4
}
