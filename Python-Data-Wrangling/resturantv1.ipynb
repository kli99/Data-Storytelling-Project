{
 "cells": [
  {
   "cell_type": "code",
   "execution_count": 2,
   "metadata": {},
   "outputs": [],
   "source": [
    "import pandas as pd\n",
    "from sqlalchemy import create_engine\n",
    "import numpy as np\n",
    "import csv\n",
    "from bs4 import BeautifulSoup\n",
    "import string\n",
    "from mpl_toolkits.mplot3d import Axes3D \n",
    "import matplotlib.pyplot as plt\n",
    "from collections import Counter\n",
    "import pymongo\n",
    "from pymongo import MongoClient"
   ]
  },
  {
   "cell_type": "code",
   "execution_count": 3,
   "metadata": {},
   "outputs": [],
   "source": [
    "from flask import Flask, render_template, redirect\n",
    "import json\n"
   ]
  },
  {
   "cell_type": "code",
   "execution_count": 4,
   "metadata": {},
   "outputs": [],
   "source": [
    "NYC_restaurant_csv = \"assets/data/NYCRestaurant_Inspection.csv\"\n",
    "NYC_restaurant_df = pd.read_csv(NYC_restaurant_csv,encoding=\"utf8\")"
   ]
  },
  {
   "cell_type": "code",
   "execution_count": 5,
   "metadata": {},
   "outputs": [
    {
     "output_type": "execute_result",
     "data": {
      "text/plain": "               CAMIS       ZIPCODE   Latitude  Longitude  Community Board  \\\nSCORE                                                                       \n-1.0    4.736078e+07  10715.777095  40.140387 -72.870343       259.880401   \n 0.0    4.690073e+07  10685.234799  38.551032 -70.003542       237.779817   \n 2.0    4.633004e+07  10668.176322  39.411943 -71.560954       245.931379   \n 3.0    4.599589e+07  10664.644894  39.827626 -72.301872       245.200000   \n 4.0    4.629761e+07  10678.587444  39.889720 -72.418598       245.949989   \n...              ...           ...        ...        ...              ...   \n 150.0  5.008362e+07  11218.000000  40.647775 -73.971268       312.000000   \n 151.0  5.005037e+07  11224.000000  40.574735 -73.979032       313.000000   \n 153.0  5.009075e+07  10013.000000  40.715626 -73.996454       103.000000   \n 157.0  5.009034e+07  11214.000000  40.602547 -74.003652       311.000000   \n 164.0  5.008225e+07  10955.350000  40.782532 -73.888625       312.100000   \n\n        Council District  Census Tract           BIN           BBL  \nSCORE                                                               \n-1.0           19.951389  32729.405093  2.625068e+06  2.518119e+09  \n 0.0           19.766710  26992.465269  2.412610e+06  2.200746e+09  \n 2.0           20.017421  27637.940302  2.480504e+06  2.318080e+09  \n 3.0           19.660185  29585.583796  2.477135e+06  2.342518e+09  \n 4.0           19.772799  28824.031229  2.488154e+06  2.363596e+09  \n...                  ...           ...           ...           ...  \n 150.0         39.000000  50400.000000  3.256668e+06  3.053310e+09  \n 151.0         47.000000  35200.000000  3.245150e+06  3.086960e+09  \n 153.0          1.000000   2900.000000  1.002432e+06  1.002020e+09  \n 157.0         43.000000  28200.000000  3.168722e+06  3.064390e+09  \n 164.0         19.200000  25290.000000  3.125179e+06  3.120574e+09  \n\n[136 rows x 9 columns]",
      "text/html": "<div>\n<style scoped>\n    .dataframe tbody tr th:only-of-type {\n        vertical-align: middle;\n    }\n\n    .dataframe tbody tr th {\n        vertical-align: top;\n    }\n\n    .dataframe thead th {\n        text-align: right;\n    }\n</style>\n<table border=\"1\" class=\"dataframe\">\n  <thead>\n    <tr style=\"text-align: right;\">\n      <th></th>\n      <th>CAMIS</th>\n      <th>ZIPCODE</th>\n      <th>Latitude</th>\n      <th>Longitude</th>\n      <th>Community Board</th>\n      <th>Council District</th>\n      <th>Census Tract</th>\n      <th>BIN</th>\n      <th>BBL</th>\n    </tr>\n    <tr>\n      <th>SCORE</th>\n      <th></th>\n      <th></th>\n      <th></th>\n      <th></th>\n      <th></th>\n      <th></th>\n      <th></th>\n      <th></th>\n      <th></th>\n    </tr>\n  </thead>\n  <tbody>\n    <tr>\n      <th>-1.0</th>\n      <td>4.736078e+07</td>\n      <td>10715.777095</td>\n      <td>40.140387</td>\n      <td>-72.870343</td>\n      <td>259.880401</td>\n      <td>19.951389</td>\n      <td>32729.405093</td>\n      <td>2.625068e+06</td>\n      <td>2.518119e+09</td>\n    </tr>\n    <tr>\n      <th>0.0</th>\n      <td>4.690073e+07</td>\n      <td>10685.234799</td>\n      <td>38.551032</td>\n      <td>-70.003542</td>\n      <td>237.779817</td>\n      <td>19.766710</td>\n      <td>26992.465269</td>\n      <td>2.412610e+06</td>\n      <td>2.200746e+09</td>\n    </tr>\n    <tr>\n      <th>2.0</th>\n      <td>4.633004e+07</td>\n      <td>10668.176322</td>\n      <td>39.411943</td>\n      <td>-71.560954</td>\n      <td>245.931379</td>\n      <td>20.017421</td>\n      <td>27637.940302</td>\n      <td>2.480504e+06</td>\n      <td>2.318080e+09</td>\n    </tr>\n    <tr>\n      <th>3.0</th>\n      <td>4.599589e+07</td>\n      <td>10664.644894</td>\n      <td>39.827626</td>\n      <td>-72.301872</td>\n      <td>245.200000</td>\n      <td>19.660185</td>\n      <td>29585.583796</td>\n      <td>2.477135e+06</td>\n      <td>2.342518e+09</td>\n    </tr>\n    <tr>\n      <th>4.0</th>\n      <td>4.629761e+07</td>\n      <td>10678.587444</td>\n      <td>39.889720</td>\n      <td>-72.418598</td>\n      <td>245.949989</td>\n      <td>19.772799</td>\n      <td>28824.031229</td>\n      <td>2.488154e+06</td>\n      <td>2.363596e+09</td>\n    </tr>\n    <tr>\n      <th>...</th>\n      <td>...</td>\n      <td>...</td>\n      <td>...</td>\n      <td>...</td>\n      <td>...</td>\n      <td>...</td>\n      <td>...</td>\n      <td>...</td>\n      <td>...</td>\n    </tr>\n    <tr>\n      <th>150.0</th>\n      <td>5.008362e+07</td>\n      <td>11218.000000</td>\n      <td>40.647775</td>\n      <td>-73.971268</td>\n      <td>312.000000</td>\n      <td>39.000000</td>\n      <td>50400.000000</td>\n      <td>3.256668e+06</td>\n      <td>3.053310e+09</td>\n    </tr>\n    <tr>\n      <th>151.0</th>\n      <td>5.005037e+07</td>\n      <td>11224.000000</td>\n      <td>40.574735</td>\n      <td>-73.979032</td>\n      <td>313.000000</td>\n      <td>47.000000</td>\n      <td>35200.000000</td>\n      <td>3.245150e+06</td>\n      <td>3.086960e+09</td>\n    </tr>\n    <tr>\n      <th>153.0</th>\n      <td>5.009075e+07</td>\n      <td>10013.000000</td>\n      <td>40.715626</td>\n      <td>-73.996454</td>\n      <td>103.000000</td>\n      <td>1.000000</td>\n      <td>2900.000000</td>\n      <td>1.002432e+06</td>\n      <td>1.002020e+09</td>\n    </tr>\n    <tr>\n      <th>157.0</th>\n      <td>5.009034e+07</td>\n      <td>11214.000000</td>\n      <td>40.602547</td>\n      <td>-74.003652</td>\n      <td>311.000000</td>\n      <td>43.000000</td>\n      <td>28200.000000</td>\n      <td>3.168722e+06</td>\n      <td>3.064390e+09</td>\n    </tr>\n    <tr>\n      <th>164.0</th>\n      <td>5.008225e+07</td>\n      <td>10955.350000</td>\n      <td>40.782532</td>\n      <td>-73.888625</td>\n      <td>312.100000</td>\n      <td>19.200000</td>\n      <td>25290.000000</td>\n      <td>3.125179e+06</td>\n      <td>3.120574e+09</td>\n    </tr>\n  </tbody>\n</table>\n<p>136 rows × 9 columns</p>\n</div>"
     },
     "metadata": {},
     "execution_count": 5
    }
   ],
   "source": [
    "NYC_restaurant_df.groupby('SCORE').mean()"
   ]
  },
  {
   "cell_type": "code",
   "execution_count": 6,
   "metadata": {},
   "outputs": [
    {
     "output_type": "error",
     "ename": "AttributeError",
     "evalue": "'DataFrame' object has no attribute 'iplot'",
     "traceback": [
      "\u001b[1;31m---------------------------------------------------------------------------\u001b[0m",
      "\u001b[1;31mAttributeError\u001b[0m                            Traceback (most recent call last)",
      "\u001b[1;32m<ipython-input-6-172f6c5d1e0e>\u001b[0m in \u001b[0;36m<module>\u001b[1;34m\u001b[0m\n\u001b[1;32m----> 1\u001b[1;33m \u001b[0mNYC_restaurant_df\u001b[0m\u001b[1;33m.\u001b[0m\u001b[0mgroupby\u001b[0m\u001b[1;33m(\u001b[0m\u001b[1;33m[\u001b[0m\u001b[1;34m'CUISINE DESCRIPTION'\u001b[0m\u001b[1;33m,\u001b[0m \u001b[1;34m'ZIPCODE'\u001b[0m\u001b[1;33m]\u001b[0m\u001b[1;33m,\u001b[0m \u001b[0mas_index\u001b[0m\u001b[1;33m=\u001b[0m\u001b[1;32mTrue\u001b[0m\u001b[1;33m)\u001b[0m\u001b[1;33m[\u001b[0m\u001b[1;34m'SCORE'\u001b[0m\u001b[1;33m]\u001b[0m\u001b[1;33m.\u001b[0m\u001b[0mmean\u001b[0m\u001b[1;33m(\u001b[0m\u001b[1;33m)\u001b[0m\u001b[1;33m.\u001b[0m\u001b[0munstack\u001b[0m\u001b[1;33m(\u001b[0m\u001b[1;33m)\u001b[0m\u001b[1;33m.\u001b[0m\u001b[0miplot\u001b[0m\u001b[1;33m(\u001b[0m\u001b[0mkind\u001b[0m\u001b[1;33m=\u001b[0m\u001b[1;34m'bar'\u001b[0m\u001b[1;33m,\u001b[0m \u001b[0mmode\u001b[0m\u001b[1;33m=\u001b[0m\u001b[1;34m'group'\u001b[0m\u001b[1;33m,\u001b[0m \u001b[0mtitle\u001b[0m\u001b[1;33m=\u001b[0m\u001b[1;34m'Average Customer Satisfaction Score by Bourough'\u001b[0m\u001b[1;33m)\u001b[0m\u001b[1;33m\u001b[0m\u001b[1;33m\u001b[0m\u001b[0m\n\u001b[0m",
      "\u001b[1;32m~\\anaconda3\\lib\\site-packages\\pandas\\core\\generic.py\u001b[0m in \u001b[0;36m__getattr__\u001b[1;34m(self, name)\u001b[0m\n\u001b[0;32m   5272\u001b[0m             \u001b[1;32mif\u001b[0m \u001b[0mself\u001b[0m\u001b[1;33m.\u001b[0m\u001b[0m_info_axis\u001b[0m\u001b[1;33m.\u001b[0m\u001b[0m_can_hold_identifiers_and_holds_name\u001b[0m\u001b[1;33m(\u001b[0m\u001b[0mname\u001b[0m\u001b[1;33m)\u001b[0m\u001b[1;33m:\u001b[0m\u001b[1;33m\u001b[0m\u001b[1;33m\u001b[0m\u001b[0m\n\u001b[0;32m   5273\u001b[0m                 \u001b[1;32mreturn\u001b[0m \u001b[0mself\u001b[0m\u001b[1;33m[\u001b[0m\u001b[0mname\u001b[0m\u001b[1;33m]\u001b[0m\u001b[1;33m\u001b[0m\u001b[1;33m\u001b[0m\u001b[0m\n\u001b[1;32m-> 5274\u001b[1;33m             \u001b[1;32mreturn\u001b[0m \u001b[0mobject\u001b[0m\u001b[1;33m.\u001b[0m\u001b[0m__getattribute__\u001b[0m\u001b[1;33m(\u001b[0m\u001b[0mself\u001b[0m\u001b[1;33m,\u001b[0m \u001b[0mname\u001b[0m\u001b[1;33m)\u001b[0m\u001b[1;33m\u001b[0m\u001b[1;33m\u001b[0m\u001b[0m\n\u001b[0m\u001b[0;32m   5275\u001b[0m \u001b[1;33m\u001b[0m\u001b[0m\n\u001b[0;32m   5276\u001b[0m     \u001b[1;32mdef\u001b[0m \u001b[0m__setattr__\u001b[0m\u001b[1;33m(\u001b[0m\u001b[0mself\u001b[0m\u001b[1;33m,\u001b[0m \u001b[0mname\u001b[0m\u001b[1;33m:\u001b[0m \u001b[0mstr\u001b[0m\u001b[1;33m,\u001b[0m \u001b[0mvalue\u001b[0m\u001b[1;33m)\u001b[0m \u001b[1;33m->\u001b[0m \u001b[1;32mNone\u001b[0m\u001b[1;33m:\u001b[0m\u001b[1;33m\u001b[0m\u001b[1;33m\u001b[0m\u001b[0m\n",
      "\u001b[1;31mAttributeError\u001b[0m: 'DataFrame' object has no attribute 'iplot'"
     ]
    }
   ],
   "source": [
    "NYC_restaurant_df.groupby(['CUISINE DESCRIPTION', 'ZIPCODE'], as_index=True)['SCORE'].mean().unstack().iplot(kind='bar', mode='group', title='Average Customer Satisfaction Score by Bourough')"
   ]
  },
  {
   "cell_type": "code",
   "execution_count": 7,
   "metadata": {},
   "outputs": [
    {
     "output_type": "error",
     "ename": "SyntaxError",
     "evalue": "unexpected EOF while parsing (<ipython-input-7-7f4fb9aa9ef8>, line 4)",
     "traceback": [
      "\u001b[1;36m  File \u001b[1;32m\"<ipython-input-7-7f4fb9aa9ef8>\"\u001b[1;36m, line \u001b[1;32m4\u001b[0m\n\u001b[1;33m    #Average score/grade by borough\u001b[0m\n\u001b[1;37m                                   ^\u001b[0m\n\u001b[1;31mSyntaxError\u001b[0m\u001b[1;31m:\u001b[0m unexpected EOF while parsing\n"
     ]
    }
   ],
   "source": [
    "NYC_restaurant_df = pd.DataFrame(\n",
    "       columns=[\"CUISINE DESCRIPTION\", \"ZIPCODE\"]\n",
    "#    Average score/grade by cuisine type\n",
    "#Average score/grade by borough"
   ]
  },
  {
   "cell_type": "code",
   "execution_count": 8,
   "metadata": {},
   "outputs": [],
   "source": [
    "df = pd.DataFrame(\n",
    "    [[\"a\", \"b\"], [\"c\", \"d\"]],\n",
    "    index=[\"row 1\", \"row 2\"],\n",
    "    columns=[\"col 1\", \"col 2\"],\n",
    ")"
   ]
  },
  {
   "cell_type": "code",
   "execution_count": 11,
   "metadata": {},
   "outputs": [
    {
     "output_type": "execute_result",
     "data": {
      "text/plain": "                CAMIS      SCORE   Latitude  Longitude  Community Board  \\\nZIPCODE                                                                   \n10000.0  4.442621e+07  14.000000  40.782289 -73.965194       164.000000   \n10001.0  4.657373e+07  19.799711  40.749016 -73.992403       104.677889   \n10002.0  4.723495e+07  22.504798  40.717906 -73.990306       103.000000   \n10003.0  4.576224e+07  20.320081  40.731097 -73.988581       103.463211   \n10004.0  4.556301e+07  18.943284  40.704137 -74.011809       101.000000   \n...               ...        ...        ...        ...              ...   \n11693.0  4.701672e+07  18.405896  40.588735 -73.815453       414.000000   \n11694.0  4.604991e+07  17.793503  40.580624 -73.836942       414.000000   \n11697.0  4.111533e+07  13.923077  40.562011 -73.913728       414.000000   \n12345.0  5.004897e+07  11.222222  40.817722 -73.941941       110.000000   \n30339.0  5.006431e+07  13.142857        NaN        NaN              NaN   \n\n         Council District  Census Tract           BIN           BBL  \nZIPCODE                                                              \n10000.0          6.000000  14300.000000  1.000000e+06  1.011110e+09  \n10001.0          3.231782   9126.170684  1.028884e+06  1.002518e+09  \n10002.0          1.049482   1863.051066  1.018410e+06  9.886069e+08  \n10003.0          1.960784   4538.050670  1.023445e+06  1.005898e+09  \n10004.0          1.000000   1994.127334  1.024473e+06  1.000171e+09  \n...                   ...           ...           ...           ...  \n11693.0         32.000000  95671.626087  4.330533e+06  4.115210e+09  \n11694.0         32.000000  93652.425339  4.321156e+06  4.048917e+09  \n11697.0         32.000000  91601.000000  4.514318e+06  4.163500e+09  \n12345.0          9.000000  23000.000000  1.060295e+06  1.020240e+09  \n30339.0               NaN           NaN           NaN           NaN  \n\n[227 rows x 9 columns]",
      "text/html": "<div>\n<style scoped>\n    .dataframe tbody tr th:only-of-type {\n        vertical-align: middle;\n    }\n\n    .dataframe tbody tr th {\n        vertical-align: top;\n    }\n\n    .dataframe thead th {\n        text-align: right;\n    }\n</style>\n<table border=\"1\" class=\"dataframe\">\n  <thead>\n    <tr style=\"text-align: right;\">\n      <th></th>\n      <th>CAMIS</th>\n      <th>SCORE</th>\n      <th>Latitude</th>\n      <th>Longitude</th>\n      <th>Community Board</th>\n      <th>Council District</th>\n      <th>Census Tract</th>\n      <th>BIN</th>\n      <th>BBL</th>\n    </tr>\n    <tr>\n      <th>ZIPCODE</th>\n      <th></th>\n      <th></th>\n      <th></th>\n      <th></th>\n      <th></th>\n      <th></th>\n      <th></th>\n      <th></th>\n      <th></th>\n    </tr>\n  </thead>\n  <tbody>\n    <tr>\n      <th>10000.0</th>\n      <td>4.442621e+07</td>\n      <td>14.000000</td>\n      <td>40.782289</td>\n      <td>-73.965194</td>\n      <td>164.000000</td>\n      <td>6.000000</td>\n      <td>14300.000000</td>\n      <td>1.000000e+06</td>\n      <td>1.011110e+09</td>\n    </tr>\n    <tr>\n      <th>10001.0</th>\n      <td>4.657373e+07</td>\n      <td>19.799711</td>\n      <td>40.749016</td>\n      <td>-73.992403</td>\n      <td>104.677889</td>\n      <td>3.231782</td>\n      <td>9126.170684</td>\n      <td>1.028884e+06</td>\n      <td>1.002518e+09</td>\n    </tr>\n    <tr>\n      <th>10002.0</th>\n      <td>4.723495e+07</td>\n      <td>22.504798</td>\n      <td>40.717906</td>\n      <td>-73.990306</td>\n      <td>103.000000</td>\n      <td>1.049482</td>\n      <td>1863.051066</td>\n      <td>1.018410e+06</td>\n      <td>9.886069e+08</td>\n    </tr>\n    <tr>\n      <th>10003.0</th>\n      <td>4.576224e+07</td>\n      <td>20.320081</td>\n      <td>40.731097</td>\n      <td>-73.988581</td>\n      <td>103.463211</td>\n      <td>1.960784</td>\n      <td>4538.050670</td>\n      <td>1.023445e+06</td>\n      <td>1.005898e+09</td>\n    </tr>\n    <tr>\n      <th>10004.0</th>\n      <td>4.556301e+07</td>\n      <td>18.943284</td>\n      <td>40.704137</td>\n      <td>-74.011809</td>\n      <td>101.000000</td>\n      <td>1.000000</td>\n      <td>1994.127334</td>\n      <td>1.024473e+06</td>\n      <td>1.000171e+09</td>\n    </tr>\n    <tr>\n      <th>...</th>\n      <td>...</td>\n      <td>...</td>\n      <td>...</td>\n      <td>...</td>\n      <td>...</td>\n      <td>...</td>\n      <td>...</td>\n      <td>...</td>\n      <td>...</td>\n    </tr>\n    <tr>\n      <th>11693.0</th>\n      <td>4.701672e+07</td>\n      <td>18.405896</td>\n      <td>40.588735</td>\n      <td>-73.815453</td>\n      <td>414.000000</td>\n      <td>32.000000</td>\n      <td>95671.626087</td>\n      <td>4.330533e+06</td>\n      <td>4.115210e+09</td>\n    </tr>\n    <tr>\n      <th>11694.0</th>\n      <td>4.604991e+07</td>\n      <td>17.793503</td>\n      <td>40.580624</td>\n      <td>-73.836942</td>\n      <td>414.000000</td>\n      <td>32.000000</td>\n      <td>93652.425339</td>\n      <td>4.321156e+06</td>\n      <td>4.048917e+09</td>\n    </tr>\n    <tr>\n      <th>11697.0</th>\n      <td>4.111533e+07</td>\n      <td>13.923077</td>\n      <td>40.562011</td>\n      <td>-73.913728</td>\n      <td>414.000000</td>\n      <td>32.000000</td>\n      <td>91601.000000</td>\n      <td>4.514318e+06</td>\n      <td>4.163500e+09</td>\n    </tr>\n    <tr>\n      <th>12345.0</th>\n      <td>5.004897e+07</td>\n      <td>11.222222</td>\n      <td>40.817722</td>\n      <td>-73.941941</td>\n      <td>110.000000</td>\n      <td>9.000000</td>\n      <td>23000.000000</td>\n      <td>1.060295e+06</td>\n      <td>1.020240e+09</td>\n    </tr>\n    <tr>\n      <th>30339.0</th>\n      <td>5.006431e+07</td>\n      <td>13.142857</td>\n      <td>NaN</td>\n      <td>NaN</td>\n      <td>NaN</td>\n      <td>NaN</td>\n      <td>NaN</td>\n      <td>NaN</td>\n      <td>NaN</td>\n    </tr>\n  </tbody>\n</table>\n<p>227 rows × 9 columns</p>\n</div>"
     },
     "metadata": {},
     "execution_count": 11
    }
   ],
   "source": [
    "# Average score by zipcode\n",
    "zipcode_df=NYC_restaurant_df.groupby('ZIPCODE', as_index=True).mean()\n",
    "zipcode_df"
   ]
  },
  {
   "cell_type": "code",
   "execution_count": 13,
   "metadata": {},
   "outputs": [
    {
     "output_type": "execute_result",
     "data": {
      "text/plain": "                                      CAMIS       ZIPCODE      SCORE  \\\nCUISINE DESCRIPTION                                                    \nAfghan                         4.576496e+07  10932.178082  18.813397   \nAfrican                        4.700496e+07  10632.671546  27.762606   \nAmerican                       4.531139e+07  10538.043689  18.917432   \nArmenian                       4.678187e+07  10480.638436  18.618243   \nAsian                          4.835057e+07  10690.666718  21.876633   \n...                                     ...           ...        ...   \nTex-Mex                        4.567753e+07  10671.753108  18.048071   \nThai                           4.757234e+07  10608.714649  21.695994   \nTurkish                        4.749457e+07  10633.163462  21.414378   \nVegetarian                     4.733455e+07  10571.653039  21.380464   \nVietnamese/Cambodian/Malaysia  4.644630e+07  10636.077547  22.464396   \n\n                                Latitude  Longitude  Community Board  \\\nCUISINE DESCRIPTION                                                    \nAfghan                         40.722853 -73.905161       303.922374   \nAfrican                        37.864152 -68.657609       223.522248   \nAmerican                       39.726317 -72.135358       219.471241   \nArmenian                       40.739366 -73.954046       197.156352   \nAsian                          40.184740 -72.964996       251.392857   \n...                                  ...        ...              ...   \nTex-Mex                        39.240805 -71.244050       244.917703   \nThai                           40.547928 -73.622773       224.113232   \nTurkish                        39.747051 -72.222752       229.707532   \nVegetarian                     39.237898 -71.275098       207.143088   \nVietnamese/Cambodian/Malaysia  40.307627 -73.217523       226.864673   \n\n                               Council District  Census Tract           BIN  \\\nCUISINE DESCRIPTION                                                           \nAfghan                                22.205479  52558.255708  3.061448e+06   \nAfrican                               20.788642  27429.465457  2.226126e+06   \nAmerican                              16.976645  22453.800226  2.212524e+06   \nArmenian                              15.690554  24907.553746  1.996480e+06   \nAsian                                 18.531385  30124.132035  2.544491e+06   \n...                                         ...           ...           ...   \nTex-Mex                               20.267614  30357.534044  2.478894e+06   \nThai                                  17.574518  21598.046347  2.255430e+06   \nTurkish                               21.741186  29447.038462  2.321075e+06   \nVegetarian                            17.082840  25932.882733  2.094235e+06   \nVietnamese/Cambodian/Malaysia         17.588444  26188.750127  2.326101e+06   \n\n                                        BBL  \nCUISINE DESCRIPTION                          \nAfghan                         3.011937e+09  \nAfrican                        2.035157e+09  \nAmerican                       2.094616e+09  \nArmenian                       1.919305e+09  \nAsian                          2.425013e+09  \n...                                     ...  \nTex-Mex                        2.326011e+09  \nThai                           2.187415e+09  \nTurkish                        2.181949e+09  \nVegetarian                     1.964882e+09  \nVietnamese/Cambodian/Malaysia  2.167113e+09  \n\n[84 rows x 10 columns]",
      "text/html": "<div>\n<style scoped>\n    .dataframe tbody tr th:only-of-type {\n        vertical-align: middle;\n    }\n\n    .dataframe tbody tr th {\n        vertical-align: top;\n    }\n\n    .dataframe thead th {\n        text-align: right;\n    }\n</style>\n<table border=\"1\" class=\"dataframe\">\n  <thead>\n    <tr style=\"text-align: right;\">\n      <th></th>\n      <th>CAMIS</th>\n      <th>ZIPCODE</th>\n      <th>SCORE</th>\n      <th>Latitude</th>\n      <th>Longitude</th>\n      <th>Community Board</th>\n      <th>Council District</th>\n      <th>Census Tract</th>\n      <th>BIN</th>\n      <th>BBL</th>\n    </tr>\n    <tr>\n      <th>CUISINE DESCRIPTION</th>\n      <th></th>\n      <th></th>\n      <th></th>\n      <th></th>\n      <th></th>\n      <th></th>\n      <th></th>\n      <th></th>\n      <th></th>\n      <th></th>\n    </tr>\n  </thead>\n  <tbody>\n    <tr>\n      <th>Afghan</th>\n      <td>4.576496e+07</td>\n      <td>10932.178082</td>\n      <td>18.813397</td>\n      <td>40.722853</td>\n      <td>-73.905161</td>\n      <td>303.922374</td>\n      <td>22.205479</td>\n      <td>52558.255708</td>\n      <td>3.061448e+06</td>\n      <td>3.011937e+09</td>\n    </tr>\n    <tr>\n      <th>African</th>\n      <td>4.700496e+07</td>\n      <td>10632.671546</td>\n      <td>27.762606</td>\n      <td>37.864152</td>\n      <td>-68.657609</td>\n      <td>223.522248</td>\n      <td>20.788642</td>\n      <td>27429.465457</td>\n      <td>2.226126e+06</td>\n      <td>2.035157e+09</td>\n    </tr>\n    <tr>\n      <th>American</th>\n      <td>4.531139e+07</td>\n      <td>10538.043689</td>\n      <td>18.917432</td>\n      <td>39.726317</td>\n      <td>-72.135358</td>\n      <td>219.471241</td>\n      <td>16.976645</td>\n      <td>22453.800226</td>\n      <td>2.212524e+06</td>\n      <td>2.094616e+09</td>\n    </tr>\n    <tr>\n      <th>Armenian</th>\n      <td>4.678187e+07</td>\n      <td>10480.638436</td>\n      <td>18.618243</td>\n      <td>40.739366</td>\n      <td>-73.954046</td>\n      <td>197.156352</td>\n      <td>15.690554</td>\n      <td>24907.553746</td>\n      <td>1.996480e+06</td>\n      <td>1.919305e+09</td>\n    </tr>\n    <tr>\n      <th>Asian</th>\n      <td>4.835057e+07</td>\n      <td>10690.666718</td>\n      <td>21.876633</td>\n      <td>40.184740</td>\n      <td>-72.964996</td>\n      <td>251.392857</td>\n      <td>18.531385</td>\n      <td>30124.132035</td>\n      <td>2.544491e+06</td>\n      <td>2.425013e+09</td>\n    </tr>\n    <tr>\n      <th>...</th>\n      <td>...</td>\n      <td>...</td>\n      <td>...</td>\n      <td>...</td>\n      <td>...</td>\n      <td>...</td>\n      <td>...</td>\n      <td>...</td>\n      <td>...</td>\n      <td>...</td>\n    </tr>\n    <tr>\n      <th>Tex-Mex</th>\n      <td>4.567753e+07</td>\n      <td>10671.753108</td>\n      <td>18.048071</td>\n      <td>39.240805</td>\n      <td>-71.244050</td>\n      <td>244.917703</td>\n      <td>20.267614</td>\n      <td>30357.534044</td>\n      <td>2.478894e+06</td>\n      <td>2.326011e+09</td>\n    </tr>\n    <tr>\n      <th>Thai</th>\n      <td>4.757234e+07</td>\n      <td>10608.714649</td>\n      <td>21.695994</td>\n      <td>40.547928</td>\n      <td>-73.622773</td>\n      <td>224.113232</td>\n      <td>17.574518</td>\n      <td>21598.046347</td>\n      <td>2.255430e+06</td>\n      <td>2.187415e+09</td>\n    </tr>\n    <tr>\n      <th>Turkish</th>\n      <td>4.749457e+07</td>\n      <td>10633.163462</td>\n      <td>21.414378</td>\n      <td>39.747051</td>\n      <td>-72.222752</td>\n      <td>229.707532</td>\n      <td>21.741186</td>\n      <td>29447.038462</td>\n      <td>2.321075e+06</td>\n      <td>2.181949e+09</td>\n    </tr>\n    <tr>\n      <th>Vegetarian</th>\n      <td>4.733455e+07</td>\n      <td>10571.653039</td>\n      <td>21.380464</td>\n      <td>39.237898</td>\n      <td>-71.275098</td>\n      <td>207.143088</td>\n      <td>17.082840</td>\n      <td>25932.882733</td>\n      <td>2.094235e+06</td>\n      <td>1.964882e+09</td>\n    </tr>\n    <tr>\n      <th>Vietnamese/Cambodian/Malaysia</th>\n      <td>4.644630e+07</td>\n      <td>10636.077547</td>\n      <td>22.464396</td>\n      <td>40.307627</td>\n      <td>-73.217523</td>\n      <td>226.864673</td>\n      <td>17.588444</td>\n      <td>26188.750127</td>\n      <td>2.326101e+06</td>\n      <td>2.167113e+09</td>\n    </tr>\n  </tbody>\n</table>\n<p>84 rows × 10 columns</p>\n</div>"
     },
     "metadata": {},
     "execution_count": 13
    }
   ],
   "source": [
    "# Average score by cusine \n",
    "cuisine_df=NYC_restaurant_df.groupby(\"CUISINE DESCRIPTION\", as_index=True).mean()\n",
    "cuisine_df"
   ]
  },
  {
   "cell_type": "code",
   "execution_count": null,
   "metadata": {},
   "outputs": [],
   "source": []
  }
 ],
 "metadata": {
  "kernelspec": {
   "display_name": "Python 3",
   "language": "python",
   "name": "python3"
  },
  "language_info": {
   "codemirror_mode": {
    "name": "ipython",
    "version": 3
   },
   "file_extension": ".py",
   "mimetype": "text/x-python",
   "name": "python",
   "nbconvert_exporter": "python",
   "pygments_lexer": "ipython3",
   "version": "3.7.6-final"
  }
 },
 "nbformat": 4,
 "nbformat_minor": 4
}