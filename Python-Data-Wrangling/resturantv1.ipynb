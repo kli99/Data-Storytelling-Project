{
 "cells": [
  {
   "cell_type": "code",
   "execution_count": 3,
   "metadata": {},
   "outputs": [],
   "source": [
    "import pandas as pd\n",
    "from sqlalchemy import create_engine\n",
    "import numpy as np\n",
    "import csv\n",
    "from bs4 import BeautifulSoup\n",
    "import string\n",
    "from mpl_toolkits.mplot3d import Axes3D \n",
    "import matplotlib.pyplot as plt\n",
    "from collections import Counter"
   ]
  },
  {
   "cell_type": "code",
   "execution_count": 4,
   "metadata": {},
   "outputs": [],
   "source": [
    "from flask import Flask, render_template, redirect\n",
    "import json\n"
   ]
  },
  {
   "cell_type": "code",
   "execution_count": 5,
   "metadata": {},
   "outputs": [],
   "source": [
    "NYC_restaurant_csv = \"DOHMH_New_York_City_Restaurant_Inspection_Results (consolidated).csv\"\n",
    "NYC_restaurant_df = pd.read_csv(NYC_restaurant_csv,encoding=\"utf8\")"
   ]
  },
  {
   "cell_type": "code",
   "execution_count": 10,
   "metadata": {},
   "outputs": [
    {
     "output_type": "execute_result",
     "data": {
      "text/plain": "CUISINE DESCRIPTION  ZIPCODE\nAmerican             10001      14.819048\n                     10002      11.476190\n                     10003      11.178571\n                     10004       9.882353\n                     10005      10.000000\n                                  ...    \nThai                 11373      16.857143\n                     11374      13.000000\n                     11377      10.600000\n                     11379       8.000000\n                     11432      27.000000\nName: SCORE, Length: 878, dtype: float64"
     },
     "metadata": {},
     "execution_count": 10
    }
   ],
   "source": [
    "NYC_restaurant_df.groupby(['CUISINE DESCRIPTION', 'ZIPCODE'], as_index=True)['SCORE'].mean()"
   ]
  },
  {
   "cell_type": "code",
   "execution_count": 12,
   "metadata": {},
   "outputs": [
    {
     "output_type": "execute_result",
     "data": {
      "text/plain": "ZIPCODE\n10000    12.000000\n10001    13.475610\n10002    13.700000\n10003    10.552239\n10004     9.543478\n           ...    \n11691     2.000000\n11692     7.000000\n11693     5.000000\n11694    12.375000\n11697    10.000000\nName: SCORE, Length: 192, dtype: float64"
     },
     "metadata": {},
     "execution_count": 12
    }
   ],
   "source": [
    "# Average score by zipcode\n",
    "zipcode_df=NYC_restaurant_df.groupby('ZIPCODE', as_index=True)['SCORE'].mean()\n",
    "zipcode_df"
   ]
  },
  {
   "cell_type": "code",
   "execution_count": 13,
   "metadata": {},
   "outputs": [
    {
     "output_type": "execute_result",
     "data": {
      "text/plain": "CUISINE DESCRIPTION\nAmerican         12.389965\nBrazilian        13.562500\nChinese          12.246859\nFrench           10.322314\nGreek            11.798077\nIndian           15.977169\nItalian          12.262590\nJapanese         12.183521\nKorean           18.623810\nMediterranean    10.605442\nMexican          12.243243\nSpanish          13.793388\nThai             12.347222\nName: SCORE, dtype: float64"
     },
     "metadata": {},
     "execution_count": 13
    }
   ],
   "source": [
    "# Average score by cusine \n",
    "cuisine_df=NYC_restaurant_df.groupby(\"CUISINE DESCRIPTION\", as_index=True)['SCORE'].mean()\n",
    "cuisine_df"
   ]
  },
  {
   "cell_type": "code",
   "execution_count": null,
   "metadata": {},
   "outputs": [],
   "source": []
  }
 ],
 "metadata": {
  "kernelspec": {
   "display_name": "Python 3",
   "language": "python",
   "name": "python3"
  },
  "language_info": {
   "codemirror_mode": {
    "name": "ipython",
    "version": 3
   },
   "file_extension": ".py",
   "mimetype": "text/x-python",
   "name": "python",
   "nbconvert_exporter": "python",
   "pygments_lexer": "ipython3",
   "version": "3.7.4-final"
  }
 },
 "nbformat": 4,
 "nbformat_minor": 4
}